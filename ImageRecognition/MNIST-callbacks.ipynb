{
 "cells": [
  {
   "cell_type": "markdown",
   "metadata": {
    "cellView": "form",
    "executionInfo": {
     "elapsed": 808,
     "status": "ok",
     "timestamp": 1640703763429,
     "user": {
      "displayName": "S Hossain",
      "photoUrl": "https://lh3.googleusercontent.com/a-/AOh14Ggt4u0T0ivGL6FKb8kNpTDR54DKNxD5_0eAOmR0Ww=s64",
      "userId": "04446315769117704347"
     },
     "user_tz": -60
    },
    "id": "BZSlp3DAjdYf"
   },
   "source": [
    "#  Digit recognition: MNIST"
   ]
  },
  {
   "cell_type": "code",
   "execution_count": 6,
   "metadata": {
    "executionInfo": {
     "elapsed": 3,
     "status": "ok",
     "timestamp": 1640703763913,
     "user": {
      "displayName": "S Hossain",
      "photoUrl": "https://lh3.googleusercontent.com/a-/AOh14Ggt4u0T0ivGL6FKb8kNpTDR54DKNxD5_0eAOmR0Ww=s64",
      "userId": "04446315769117704347"
     },
     "user_tz": -60
    },
    "id": "QSPQsWSxpzEQ"
   },
   "outputs": [],
   "source": [
    "import tensorflow as tf"
   ]
  },
  {
   "cell_type": "code",
   "execution_count": 7,
   "metadata": {
    "colab": {
     "base_uri": "https://localhost:8080/"
    },
    "executionInfo": {
     "elapsed": 62157,
     "status": "ok",
     "timestamp": 1640703826068,
     "user": {
      "displayName": "S Hossain",
      "photoUrl": "https://lh3.googleusercontent.com/a-/AOh14Ggt4u0T0ivGL6FKb8kNpTDR54DKNxD5_0eAOmR0Ww=s64",
      "userId": "04446315769117704347"
     },
     "user_tz": -60
    },
    "id": "7JXxMg3TpzER",
    "outputId": "f35b231f-3643-4753-f346-562acea6bd77"
   },
   "outputs": [
    {
     "name": "stdout",
     "output_type": "stream",
     "text": [
      "Epoch 1/15\n",
      "1875/1875 [==============================] - 5s 3ms/step - loss: 0.4973 - accuracy: 0.8249\n",
      "Epoch 2/15\n",
      "1875/1875 [==============================] - 5s 3ms/step - loss: 0.3717 - accuracy: 0.8651\n",
      "Epoch 3/15\n",
      "1875/1875 [==============================] - 5s 3ms/step - loss: 0.3342 - accuracy: 0.8770\n",
      "Epoch 4/15\n",
      "1875/1875 [==============================] - 5s 3ms/step - loss: 0.3094 - accuracy: 0.8878\n",
      "Epoch 5/15\n",
      "1875/1875 [==============================] - 5s 3ms/step - loss: 0.2913 - accuracy: 0.8928\n",
      "Epoch 6/15\n",
      "1875/1875 [==============================] - 5s 3ms/step - loss: 0.2768 - accuracy: 0.8971\n",
      "Epoch 7/15\n",
      "1875/1875 [==============================] - 5s 3ms/step - loss: 0.2662 - accuracy: 0.9024\n",
      "Epoch 8/15\n",
      "1875/1875 [==============================] - 5s 3ms/step - loss: 0.2555 - accuracy: 0.9055\n",
      "Epoch 9/15\n",
      "1875/1875 [==============================] - 5s 3ms/step - loss: 0.2469 - accuracy: 0.9083\n",
      "Epoch 10/15\n",
      "1875/1875 [==============================] - 5s 2ms/step - loss: 0.2364 - accuracy: 0.9117\n",
      "Epoch 11/15\n",
      "1875/1875 [==============================] - 5s 3ms/step - loss: 0.2274 - accuracy: 0.9147\n",
      "Epoch 12/15\n",
      "1875/1875 [==============================] - 5s 3ms/step - loss: 0.2215 - accuracy: 0.9169\n",
      "Epoch 13/15\n",
      "1875/1875 [==============================] - ETA: 0s - loss: 0.2135 - accuracy: 0.9202\n",
      "Reached 92% accuracy so cancelling training!\n",
      "1875/1875 [==============================] - 5s 3ms/step - loss: 0.2135 - accuracy: 0.9202\n"
     ]
    },
    {
     "data": {
      "text/plain": [
       "<keras.callbacks.History at 0x7fbbeba8d690>"
      ]
     },
     "execution_count": 7,
     "metadata": {},
     "output_type": "execute_result"
    }
   ],
   "source": [
    "class myCallback(tf.keras.callbacks.Callback):\n",
    "  def on_epoch_end(self, epoch, logs={}):\n",
    "    if(logs.get('accuracy')>0.92):\n",
    "      print(\"\\nReached 92% accuracy so cancelling training!\")\n",
    "      self.model.stop_training = True\n",
    "\n",
    "mnist = tf.keras.datasets.fashion_mnist\n",
    "\n",
    "(x_train, y_train),(x_test, y_test) = mnist.load_data()\n",
    "x_train, x_test = x_train / 255.0, x_test / 255.0\n",
    "\n",
    "callbacks = myCallback()\n",
    "\n",
    "model = tf.keras.models.Sequential([\n",
    "  tf.keras.layers.Flatten(input_shape=(28, 28)),\n",
    "  tf.keras.layers.Dense(128, activation=tf.nn.relu),\n",
    "  tf.keras.layers.Dense(10, activation=tf.nn.softmax)\n",
    "])\n",
    "model.compile(optimizer=tf.optimizers.Adam(), loss='sparse_categorical_crossentropy', metrics=['accuracy'])\n",
    "\n",
    "model.fit(x_train, y_train, epochs=15, callbacks=[callbacks])"
   ]
  },
  {
   "cell_type": "code",
   "execution_count": 8,
   "metadata": {
    "colab": {
     "base_uri": "https://localhost:8080/"
    },
    "executionInfo": {
     "elapsed": 6641,
     "status": "ok",
     "timestamp": 1640703832699,
     "user": {
      "displayName": "S Hossain",
      "photoUrl": "https://lh3.googleusercontent.com/a-/AOh14Ggt4u0T0ivGL6FKb8kNpTDR54DKNxD5_0eAOmR0Ww=s64",
      "userId": "04446315769117704347"
     },
     "user_tz": -60
    },
    "id": "2udPGaL7hBGX",
    "outputId": "b86e65df-2487-4545-a117-224385e92da0"
   },
   "outputs": [
    {
     "name": "stdout",
     "output_type": "stream",
     "text": [
      "1875/1875 [==============================] - 4s 2ms/step - loss: 0.2063 - accuracy: 0.9242\n",
      "Training Set: [0.20632535219192505, 0.9241999983787537]\n",
      "313/313 [==============================] - 1s 3ms/step - loss: 0.3453 - accuracy: 0.8853\n",
      "Test Set: [0.3452721834182739, 0.8852999806404114]\n"
     ]
    }
   ],
   "source": [
    "print(f\"Training Set: {model.evaluate(x_train, y_train)}\")\n",
    "print(f\"Test Set: {model.evaluate(x_test, y_test)}\")"
   ]
  }
 ],
 "metadata": {
  "accelerator": "GPU",
  "colab": {
   "collapsed_sections": [],
   "name": "MNIST-callbacks.ipynb",
   "provenance": [
    {
     "file_id": "1FC1_-eyiq09-dnx2978y2W-Y2RayVzzp",
     "timestamp": 1640702811521
    }
   ]
  },
  "kernelspec": {
   "display_name": "Python 3 (ipykernel)",
   "language": "python",
   "name": "python3"
  },
  "language_info": {
   "codemirror_mode": {
    "name": "ipython",
    "version": 3
   },
   "file_extension": ".py",
   "mimetype": "text/x-python",
   "name": "python",
   "nbconvert_exporter": "python",
   "pygments_lexer": "ipython3",
   "version": "3.9.12"
  }
 },
 "nbformat": 4,
 "nbformat_minor": 1
}
